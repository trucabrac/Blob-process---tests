{
 "cells": [
  {
   "cell_type": "markdown",
   "metadata": {},
   "source": [
    "from https://gist.github.com/trucabrac/ed2c746b3eb935ba913670fd427da974\n"
   ]
  },
  {
   "cell_type": "markdown",
   "metadata": {},
   "source": [
    "it works , except escape exit (but button to kill the process so it's ok)\n",
    "could be made nicer : center image, add background"
   ]
  },
  {
   "cell_type": "code",
   "execution_count": 6,
   "metadata": {},
   "outputs": [
    {
     "name": "stdout",
     "output_type": "stream",
     "text": [
      "./images-originals/child\\grayscale.jpg\n",
      "./images-originals/child\\sharpen.jpg\n",
      "./images-originals/child\\sharpenplt.jpg\n",
      "./images-originals/child\\tl10-001.jpg\n",
      "./images-originals/child\\tl10-002.jpg\n",
      "./images-originals/child\\tl10-003.jpg\n",
      "./images-originals/child\\tl10-004.jpg\n",
      "./images-originals/child\\tl10-005.jpg\n",
      "./images-originals/child\\tl10-006.jpg\n",
      "./images-originals/child\\tl10-007.jpg\n",
      "./images-originals/child\\tl10-008.jpg\n",
      "./images-originals/child\\tl10-009.jpg\n",
      "./images-originals/child\\tl10-010.jpg\n",
      "./images-originals/child\\tl10-168.jpg\n"
     ]
    }
   ],
   "source": [
    "'''\n",
    "Python 3 slideshow using tkinter and pillow (PIL)\n",
    "Usage: python3 slideShow.py [img_directory]\n",
    "'''\n",
    "\n",
    "import tkinter as tk\n",
    "from PIL import Image, ImageTk\n",
    "import time\n",
    "import sys\n",
    "import os\n",
    "\n",
    "class HiddenRoot(tk.Tk):\n",
    "    def __init__(self):\n",
    "        tk.Tk.__init__(self)\n",
    "        #hackish way, essentially makes root window\n",
    "        #as small as possible but still \"focused\"\n",
    "        #enabling us to use the binding on <esc>\n",
    "        self.wm_geometry(\"0x0+0+0\")\n",
    "\n",
    "        self.window = MySlideShow(self)\n",
    "        self.window.startSlideShow()\n",
    "\n",
    "\n",
    "class MySlideShow(tk.Toplevel):\n",
    "    def __init__(self, *args, **kwargs):\n",
    "        tk.Toplevel.__init__(self, *args, **kwargs)\n",
    "        #remove window decorations \n",
    "        self.overrideredirect(True)\n",
    "\n",
    "        #save reference to photo so that garbage collection\n",
    "        #does not clear image variable in show_image()\n",
    "        self.persistent_image = None\n",
    "        self.imageList = []\n",
    "        self.pixNum = 0\n",
    "\n",
    "        #used to display as background image\n",
    "        self.label = tk.Label(self)\n",
    "        self.label.pack(side=\"top\", fill=\"both\", expand=True)\n",
    "\n",
    "        self.getImages()\n",
    "\n",
    "    def getImages(self):\n",
    "        '''\n",
    "        Get image directory from command line or use current directory\n",
    "        '''\n",
    "        if len(sys.argv) == 2:\n",
    "            curr_dir = sys.argv[1]\n",
    "        else:\n",
    "            curr_dir = './images-originals/' #folder containing images \n",
    "            #rem : it reads also images contained in child folders but they could\n",
    "            #all be in 1 same folder as they are indiv correctly labeled with date, strain, nr\n",
    "\n",
    "        for root, dirs, files in os.walk(curr_dir):\n",
    "            for f in files:\n",
    "                if f.endswith(\".png\") or f.endswith(\".jpg\"):\n",
    "                    img_path = os.path.join(root, f)\n",
    "                    print(img_path)\n",
    "                    self.imageList.append(img_path)\n",
    "\n",
    "    def startSlideShow(self, delay=1): #delay in seconds\n",
    "        myimage = self.imageList[self.pixNum]\n",
    "        self.pixNum = (self.pixNum + 1) % len(self.imageList)\n",
    "        self.showImage(myimage)\n",
    "        #its like a callback function after n seconds (cycle through pics)\n",
    "        self.after(delay*100, self.startSlideShow) #100ms delay between images\n",
    "\n",
    "    def showImage(self, filename):\n",
    "        image = Image.open(filename)  \n",
    "\n",
    "        img_w, img_h = image.size\n",
    "        scr_w, scr_h = self.winfo_screenwidth(), self.winfo_screenheight()\n",
    "        width, height = min(scr_w, img_w), min(scr_h, img_h)\n",
    "        image.thumbnail((width, height), Image.ANTIALIAS)\n",
    "\n",
    "        #set window size after scaling the original image up/down to fit screen\n",
    "        #removes the border on the image\n",
    "        scaled_w, scaled_h = image.size\n",
    "        self.wm_geometry(\"{}x{}+{}+{}\".format(scaled_w,scaled_h,0,0))\n",
    "        \n",
    "        # create new image \n",
    "        self.persistent_image = ImageTk.PhotoImage(image)\n",
    "        self.label.configure(image=self.persistent_image)\n",
    "\n",
    "\n",
    "slideShow = HiddenRoot()\n",
    "slideShow.bind(\"<Escape>\", lambda e: slideShow.destroy())  # exit on esc\n",
    "slideShow.mainloop()"
   ]
  },
  {
   "cell_type": "code",
   "execution_count": 16,
   "metadata": {},
   "outputs": [],
   "source": [
    "exit"
   ]
  }
 ],
 "metadata": {
  "kernelspec": {
   "display_name": "Python 3",
   "language": "python",
   "name": "python3"
  },
  "language_info": {
   "codemirror_mode": {
    "name": "ipython",
    "version": 3
   },
   "file_extension": ".py",
   "mimetype": "text/x-python",
   "name": "python",
   "nbconvert_exporter": "python",
   "pygments_lexer": "ipython3",
   "version": "3.8.5"
  }
 },
 "nbformat": 4,
 "nbformat_minor": 4
}
