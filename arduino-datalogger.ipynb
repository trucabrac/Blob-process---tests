{
 "cells": [
  {
   "cell_type": "markdown",
   "metadata": {},
   "source": [
    "Python Code to Read Serial Data from Arduino\n",
    "https://www.learnrobotics.org/blog/arduino-data-logger-csv/"
   ]
  },
  {
   "cell_type": "code",
   "execution_count": 7,
   "metadata": {},
   "outputs": [],
   "source": [
    "import serial\n",
    "import datetime\n",
    "from datetime import datetime\n",
    "import time\n",
    "\n",
    "arduino_port = \"COM3\" #serial port of Arduino\n",
    "baud = 9600 #arduino uno runs at 9600 baud\n",
    "fileName=\"analog-data.csv\" #name of the CSV file generated"
   ]
  },
  {
   "cell_type": "code",
   "execution_count": 8,
   "metadata": {},
   "outputs": [
    {
     "name": "stdout",
     "output_type": "stream",
     "text": [
      "Connected to Arduino port:COM3\n",
      "Created file\n"
     ]
    }
   ],
   "source": [
    "ser = serial.Serial(arduino_port, baud)\n",
    "print(\"Connected to Arduino port:\" + arduino_port)\n",
    "file = open(fileName, \"a\")\n",
    "print(\"Created file\")"
   ]
  },
  {
   "cell_type": "code",
   "execution_count": 10,
   "metadata": {},
   "outputs": [
    {
     "name": "stdout",
     "output_type": "stream",
     "text": [
      "1647868550,0\r\n",
      "\n",
      "1647868550,0\r\n",
      "\n",
      "1647868550,0\r\n",
      "\n",
      "1647868550,0\r\n",
      "\n",
      "1647868550,2\r\n",
      "\n",
      "1647868550,2\r\n",
      "\n",
      "1647868550,0\r\n",
      "\n",
      "1647868550,0\r\n",
      "\n",
      "1647868550,1\r\n",
      "\n",
      "1647868550,0\r\n",
      "\n",
      "1647868550,0\r\n",
      "\n",
      "Data collection complete!\n"
     ]
    }
   ],
   "source": [
    "samples = 10 #how many samples to collect\n",
    "print_labels = True\n",
    "line = 0 #start at 0 because our header is 0 (not real data)\n",
    "while line <= samples:\n",
    "    # incoming = ser.read(9999)\n",
    "    # if len(incoming) > 0:\n",
    "    '''if print_labels:\n",
    "        if line==0:\n",
    "            print(\"Printing Column Headers\")\n",
    "        else:\n",
    "            print(\"Line \" + str(line) + \": writing...\")'''\n",
    "    \n",
    "    val = ser.readline()\n",
    "    if val:\n",
    "        now = datetime.now()\n",
    "        timestamp = str(int(datetime.timestamp(now)))\n",
    "        string = val.decode()  # convert the byte string to a unicode string\n",
    "        #num = int(string) # convert the unicode string to an int\n",
    "        data = str(timestamp + ',' + string)\n",
    "        print(data)\n",
    "    \n",
    "    #getData=str(ser.readline())\n",
    "    #data=getData[0:][:-1]\n",
    "    #print(data)\n",
    "\n",
    "        file = open(fileName, \"a\")\n",
    "        file.write(data) #write data with a newline\n",
    "        line = line+1\n",
    "    \n",
    "        #time.sleep(1)\n",
    "\n",
    "print(\"Data collection complete!\")\n",
    "file.close()"
   ]
  },
  {
   "cell_type": "code",
   "execution_count": 6,
   "metadata": {},
   "outputs": [],
   "source": [
    "ser.close()\n",
    "file.close()"
   ]
  },
  {
   "cell_type": "code",
   "execution_count": null,
   "metadata": {},
   "outputs": [],
   "source": [
    "# current date and time\n",
    "now = datetime.now()\n",
    "timestamp = datetime.timestamp(now)\n",
    "print(\"timestamp =\", timestamp)"
   ]
  },
  {
   "cell_type": "code",
   "execution_count": null,
   "metadata": {},
   "outputs": [],
   "source": [
    "now = datetime.now()\n",
    "timestamp = int(datetime.timestamp(now))\n",
    "print(\"timestamp =\", timestamp)"
   ]
  },
  {
   "cell_type": "code",
   "execution_count": null,
   "metadata": {},
   "outputs": [],
   "source": []
  }
 ],
 "metadata": {
  "kernelspec": {
   "display_name": "Python 3",
   "language": "python",
   "name": "python3"
  },
  "language_info": {
   "codemirror_mode": {
    "name": "ipython",
    "version": 3
   },
   "file_extension": ".py",
   "mimetype": "text/x-python",
   "name": "python",
   "nbconvert_exporter": "python",
   "pygments_lexer": "ipython3",
   "version": "3.8.5"
  }
 },
 "nbformat": 4,
 "nbformat_minor": 4
}
